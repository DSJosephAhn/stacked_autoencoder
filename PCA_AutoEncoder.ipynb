{
 "cells": [
  {
   "cell_type": "code",
   "execution_count": 2,
   "id": "bc9df5a8",
   "metadata": {},
   "outputs": [
    {
     "name": "stdout",
     "output_type": "stream",
     "text": [
      "Requirement already satisfied: pandas in c:\\users\\vaiv\\documents\\blog\\stacked_autoencoder\\.stacked_ae\\lib\\site-packages (1.5.1)\n",
      "Requirement already satisfied: numpy in c:\\users\\vaiv\\documents\\blog\\stacked_autoencoder\\.stacked_ae\\lib\\site-packages (1.23.4)\n",
      "Requirement already satisfied: matplotlib in c:\\users\\vaiv\\documents\\blog\\stacked_autoencoder\\.stacked_ae\\lib\\site-packages (3.6.0)\n",
      "Requirement already satisfied: seaborn in c:\\users\\vaiv\\documents\\blog\\stacked_autoencoder\\.stacked_ae\\lib\\site-packages (0.12.1)\n",
      "Requirement already satisfied: scikit-learn in c:\\users\\vaiv\\documents\\blog\\stacked_autoencoder\\.stacked_ae\\lib\\site-packages (1.1.2)\n",
      "Requirement already satisfied: tensorflow in c:\\users\\vaiv\\documents\\blog\\stacked_autoencoder\\.stacked_ae\\lib\\site-packages (2.10.0)\n",
      "Requirement already satisfied: keras in c:\\users\\vaiv\\documents\\blog\\stacked_autoencoder\\.stacked_ae\\lib\\site-packages (2.10.0)\n",
      "Requirement already satisfied: pytz>=2020.1 in c:\\users\\vaiv\\documents\\blog\\stacked_autoencoder\\.stacked_ae\\lib\\site-packages (from pandas) (2022.5)\n",
      "Requirement already satisfied: python-dateutil>=2.8.1 in c:\\users\\vaiv\\documents\\blog\\stacked_autoencoder\\.stacked_ae\\lib\\site-packages (from pandas) (2.8.2)\n",
      "Requirement already satisfied: pillow>=6.2.0 in c:\\users\\vaiv\\documents\\blog\\stacked_autoencoder\\.stacked_ae\\lib\\site-packages (from matplotlib) (9.2.0)\n",
      "Requirement already satisfied: contourpy>=1.0.1 in c:\\users\\vaiv\\documents\\blog\\stacked_autoencoder\\.stacked_ae\\lib\\site-packages (from matplotlib) (1.0.5)\n",
      "Requirement already satisfied: cycler>=0.10 in c:\\users\\vaiv\\documents\\blog\\stacked_autoencoder\\.stacked_ae\\lib\\site-packages (from matplotlib) (0.11.0)\n",
      "Requirement already satisfied: fonttools>=4.22.0 in c:\\users\\vaiv\\documents\\blog\\stacked_autoencoder\\.stacked_ae\\lib\\site-packages (from matplotlib) (4.37.4)\n",
      "Requirement already satisfied: packaging>=20.0 in c:\\users\\vaiv\\documents\\blog\\stacked_autoencoder\\.stacked_ae\\lib\\site-packages (from matplotlib) (21.3)\n",
      "Requirement already satisfied: kiwisolver>=1.0.1 in c:\\users\\vaiv\\documents\\blog\\stacked_autoencoder\\.stacked_ae\\lib\\site-packages (from matplotlib) (1.4.4)\n",
      "Requirement already satisfied: pyparsing>=2.2.1 in c:\\users\\vaiv\\documents\\blog\\stacked_autoencoder\\.stacked_ae\\lib\\site-packages (from matplotlib) (3.0.9)\n",
      "Requirement already satisfied: scipy>=1.3.2 in c:\\users\\vaiv\\documents\\blog\\stacked_autoencoder\\.stacked_ae\\lib\\site-packages (from scikit-learn) (1.9.2)\n",
      "Requirement already satisfied: joblib>=1.0.0 in c:\\users\\vaiv\\documents\\blog\\stacked_autoencoder\\.stacked_ae\\lib\\site-packages (from scikit-learn) (1.2.0)\n",
      "Requirement already satisfied: threadpoolctl>=2.0.0 in c:\\users\\vaiv\\documents\\blog\\stacked_autoencoder\\.stacked_ae\\lib\\site-packages (from scikit-learn) (3.1.0)\n",
      "Requirement already satisfied: libclang>=13.0.0 in c:\\users\\vaiv\\documents\\blog\\stacked_autoencoder\\.stacked_ae\\lib\\site-packages (from tensorflow) (14.0.6)\n",
      "Requirement already satisfied: flatbuffers>=2.0 in c:\\users\\vaiv\\documents\\blog\\stacked_autoencoder\\.stacked_ae\\lib\\site-packages (from tensorflow) (22.9.24)\n",
      "Requirement already satisfied: keras-preprocessing>=1.1.1 in c:\\users\\vaiv\\documents\\blog\\stacked_autoencoder\\.stacked_ae\\lib\\site-packages (from tensorflow) (1.1.2)\n",
      "Requirement already satisfied: h5py>=2.9.0 in c:\\users\\vaiv\\documents\\blog\\stacked_autoencoder\\.stacked_ae\\lib\\site-packages (from tensorflow) (3.7.0)\n",
      "Requirement already satisfied: grpcio<2.0,>=1.24.3 in c:\\users\\vaiv\\documents\\blog\\stacked_autoencoder\\.stacked_ae\\lib\\site-packages (from tensorflow) (1.50.0)\n",
      "Requirement already satisfied: astunparse>=1.6.0 in c:\\users\\vaiv\\documents\\blog\\stacked_autoencoder\\.stacked_ae\\lib\\site-packages (from tensorflow) (1.6.3)\n",
      "Requirement already satisfied: six>=1.12.0 in c:\\users\\vaiv\\documents\\blog\\stacked_autoencoder\\.stacked_ae\\lib\\site-packages (from tensorflow) (1.16.0)\n",
      "Requirement already satisfied: termcolor>=1.1.0 in c:\\users\\vaiv\\documents\\blog\\stacked_autoencoder\\.stacked_ae\\lib\\site-packages (from tensorflow) (2.0.1)\n",
      "Requirement already satisfied: tensorflow-io-gcs-filesystem>=0.23.1 in c:\\users\\vaiv\\documents\\blog\\stacked_autoencoder\\.stacked_ae\\lib\\site-packages (from tensorflow) (0.27.0)\n",
      "Requirement already satisfied: tensorboard<2.11,>=2.10 in c:\\users\\vaiv\\documents\\blog\\stacked_autoencoder\\.stacked_ae\\lib\\site-packages (from tensorflow) (2.10.1)\n",
      "Requirement already satisfied: gast<=0.4.0,>=0.2.1 in c:\\users\\vaiv\\documents\\blog\\stacked_autoencoder\\.stacked_ae\\lib\\site-packages (from tensorflow) (0.4.0)\n",
      "Requirement already satisfied: google-pasta>=0.1.1 in c:\\users\\vaiv\\documents\\blog\\stacked_autoencoder\\.stacked_ae\\lib\\site-packages (from tensorflow) (0.2.0)\n",
      "Requirement already satisfied: tensorflow-estimator<2.11,>=2.10.0 in c:\\users\\vaiv\\documents\\blog\\stacked_autoencoder\\.stacked_ae\\lib\\site-packages (from tensorflow) (2.10.0)\n",
      "Requirement already satisfied: absl-py>=1.0.0 in c:\\users\\vaiv\\documents\\blog\\stacked_autoencoder\\.stacked_ae\\lib\\site-packages (from tensorflow) (1.3.0)\n",
      "Requirement already satisfied: wrapt>=1.11.0 in c:\\users\\vaiv\\documents\\blog\\stacked_autoencoder\\.stacked_ae\\lib\\site-packages (from tensorflow) (1.14.1)\n",
      "Requirement already satisfied: protobuf<3.20,>=3.9.2 in c:\\users\\vaiv\\documents\\blog\\stacked_autoencoder\\.stacked_ae\\lib\\site-packages (from tensorflow) (3.19.6)\n",
      "Requirement already satisfied: typing-extensions>=3.6.6 in c:\\users\\vaiv\\documents\\blog\\stacked_autoencoder\\.stacked_ae\\lib\\site-packages (from tensorflow) (4.4.0)\n",
      "Requirement already satisfied: setuptools in c:\\users\\vaiv\\documents\\blog\\stacked_autoencoder\\.stacked_ae\\lib\\site-packages (from tensorflow) (58.1.0)\n",
      "Requirement already satisfied: opt-einsum>=2.3.2 in c:\\users\\vaiv\\documents\\blog\\stacked_autoencoder\\.stacked_ae\\lib\\site-packages (from tensorflow) (3.3.0)\n",
      "Requirement already satisfied: wheel<1.0,>=0.23.0 in c:\\users\\vaiv\\documents\\blog\\stacked_autoencoder\\.stacked_ae\\lib\\site-packages (from astunparse>=1.6.0->tensorflow) (0.37.1)\n",
      "Requirement already satisfied: werkzeug>=1.0.1 in c:\\users\\vaiv\\documents\\blog\\stacked_autoencoder\\.stacked_ae\\lib\\site-packages (from tensorboard<2.11,>=2.10->tensorflow) (2.2.2)\n",
      "Requirement already satisfied: tensorboard-plugin-wit>=1.6.0 in c:\\users\\vaiv\\documents\\blog\\stacked_autoencoder\\.stacked_ae\\lib\\site-packages (from tensorboard<2.11,>=2.10->tensorflow) (1.8.1)\n",
      "Requirement already satisfied: tensorboard-data-server<0.7.0,>=0.6.0 in c:\\users\\vaiv\\documents\\blog\\stacked_autoencoder\\.stacked_ae\\lib\\site-packages (from tensorboard<2.11,>=2.10->tensorflow) (0.6.1)\n",
      "Requirement already satisfied: google-auth-oauthlib<0.5,>=0.4.1 in c:\\users\\vaiv\\documents\\blog\\stacked_autoencoder\\.stacked_ae\\lib\\site-packages (from tensorboard<2.11,>=2.10->tensorflow) (0.4.6)\n",
      "Requirement already satisfied: markdown>=2.6.8 in c:\\users\\vaiv\\documents\\blog\\stacked_autoencoder\\.stacked_ae\\lib\\site-packages (from tensorboard<2.11,>=2.10->tensorflow) (3.4.1)\n",
      "Requirement already satisfied: requests<3,>=2.21.0 in c:\\users\\vaiv\\documents\\blog\\stacked_autoencoder\\.stacked_ae\\lib\\site-packages (from tensorboard<2.11,>=2.10->tensorflow) (2.28.1)\n",
      "Requirement already satisfied: google-auth<3,>=1.6.3 in c:\\users\\vaiv\\documents\\blog\\stacked_autoencoder\\.stacked_ae\\lib\\site-packages (from tensorboard<2.11,>=2.10->tensorflow) (2.13.0)\n",
      "Requirement already satisfied: cachetools<6.0,>=2.0.0 in c:\\users\\vaiv\\documents\\blog\\stacked_autoencoder\\.stacked_ae\\lib\\site-packages (from google-auth<3,>=1.6.3->tensorboard<2.11,>=2.10->tensorflow) (5.2.0)\n",
      "Requirement already satisfied: rsa<5,>=3.1.4 in c:\\users\\vaiv\\documents\\blog\\stacked_autoencoder\\.stacked_ae\\lib\\site-packages (from google-auth<3,>=1.6.3->tensorboard<2.11,>=2.10->tensorflow) (4.9)\n",
      "Requirement already satisfied: pyasn1-modules>=0.2.1 in c:\\users\\vaiv\\documents\\blog\\stacked_autoencoder\\.stacked_ae\\lib\\site-packages (from google-auth<3,>=1.6.3->tensorboard<2.11,>=2.10->tensorflow) (0.2.8)\n",
      "Requirement already satisfied: requests-oauthlib>=0.7.0 in c:\\users\\vaiv\\documents\\blog\\stacked_autoencoder\\.stacked_ae\\lib\\site-packages (from google-auth-oauthlib<0.5,>=0.4.1->tensorboard<2.11,>=2.10->tensorflow) (1.3.1)\n",
      "Requirement already satisfied: importlib-metadata>=4.4 in c:\\users\\vaiv\\documents\\blog\\stacked_autoencoder\\.stacked_ae\\lib\\site-packages (from markdown>=2.6.8->tensorboard<2.11,>=2.10->tensorflow) (5.0.0)\n",
      "Requirement already satisfied: urllib3<1.27,>=1.21.1 in c:\\users\\vaiv\\documents\\blog\\stacked_autoencoder\\.stacked_ae\\lib\\site-packages (from requests<3,>=2.21.0->tensorboard<2.11,>=2.10->tensorflow) (1.26.12)\n",
      "Requirement already satisfied: idna<4,>=2.5 in c:\\users\\vaiv\\documents\\blog\\stacked_autoencoder\\.stacked_ae\\lib\\site-packages (from requests<3,>=2.21.0->tensorboard<2.11,>=2.10->tensorflow) (3.4)\n",
      "Requirement already satisfied: certifi>=2017.4.17 in c:\\users\\vaiv\\documents\\blog\\stacked_autoencoder\\.stacked_ae\\lib\\site-packages (from requests<3,>=2.21.0->tensorboard<2.11,>=2.10->tensorflow) (2022.9.24)\n",
      "Requirement already satisfied: charset-normalizer<3,>=2 in c:\\users\\vaiv\\documents\\blog\\stacked_autoencoder\\.stacked_ae\\lib\\site-packages (from requests<3,>=2.21.0->tensorboard<2.11,>=2.10->tensorflow) (2.1.1)\n",
      "Requirement already satisfied: MarkupSafe>=2.1.1 in c:\\users\\vaiv\\documents\\blog\\stacked_autoencoder\\.stacked_ae\\lib\\site-packages (from werkzeug>=1.0.1->tensorboard<2.11,>=2.10->tensorflow) (2.1.1)\n",
      "Requirement already satisfied: zipp>=0.5 in c:\\users\\vaiv\\documents\\blog\\stacked_autoencoder\\.stacked_ae\\lib\\site-packages (from importlib-metadata>=4.4->markdown>=2.6.8->tensorboard<2.11,>=2.10->tensorflow) (3.9.0)\n",
      "Requirement already satisfied: pyasn1<0.5.0,>=0.4.6 in c:\\users\\vaiv\\documents\\blog\\stacked_autoencoder\\.stacked_ae\\lib\\site-packages (from pyasn1-modules>=0.2.1->google-auth<3,>=1.6.3->tensorboard<2.11,>=2.10->tensorflow) (0.4.8)\n",
      "Requirement already satisfied: oauthlib>=3.0.0 in c:\\users\\vaiv\\documents\\blog\\stacked_autoencoder\\.stacked_ae\\lib\\site-packages (from requests-oauthlib>=0.7.0->google-auth-oauthlib<0.5,>=0.4.1->tensorboard<2.11,>=2.10->tensorflow) (3.2.2)\n"
     ]
    }
   ],
   "source": [
    "## insatll Dependencies\n",
    "!pip install pandas numpy matplotlib seaborn scikit-learn tensorflow keras"
   ]
  },
  {
   "cell_type": "code",
   "execution_count": 13,
   "id": "c27e07c0",
   "metadata": {},
   "outputs": [],
   "source": [
    "## Import Dependencies\n",
    "import pandas as pd\n",
    "import numpy as np\n",
    "import matplotlib.pyplot as plt\n",
    "import seaborn as sns\n",
    "\n",
    "import tensorflow as tf\n",
    "import keras"
   ]
  },
  {
   "cell_type": "markdown",
   "id": "01d8a2b0",
   "metadata": {},
   "source": [
    "## Modelling"
   ]
  },
  {
   "cell_type": "code",
   "execution_count": 18,
   "id": "b645378f",
   "metadata": {
    "scrolled": true
   },
   "outputs": [
    {
     "data": {
      "text/plain": [
       "array([[-1.03976771e+00, -7.60238460e-01, -3.32880482e-01],\n",
       "       [-3.17841939e-02,  3.90260570e-01, -3.64766659e-02],\n",
       "       [-9.77238797e-01, -6.73862060e-01, -3.20757101e-01],\n",
       "       [-9.44190485e-01,  7.70779228e-04, -4.97304144e-02],\n",
       "       [-7.87164831e-01, -5.10641487e-02,  1.19970744e-01],\n",
       "       [ 1.09409378e+00,  1.15762056e-01,  2.45551498e-01],\n",
       "       [-1.04665623e+00, -8.53165791e-01, -2.05241169e-01],\n",
       "       [ 6.49452398e-01, -4.82750342e-01, -7.94325731e-02],\n",
       "       [ 9.92128132e-01,  3.06140931e-01,  3.96278747e-01],\n",
       "       [ 5.25509785e-01,  4.67955007e-01,  1.62461684e-01],\n",
       "       [-1.01367188e+00, -2.00458976e-01, -1.93074561e-01],\n",
       "       [ 1.10841362e+00,  7.29745189e-02, -1.82449496e-03],\n",
       "       [-1.01744457e+00, -4.77653389e-01, -2.29165228e-01],\n",
       "       [-9.71704237e-01, -7.08910047e-01, -2.10833327e-01],\n",
       "       [ 1.07688965e+00, -3.86770525e-02,  2.63501050e-02],\n",
       "       [-3.70113351e-01,  2.44018985e-01, -7.21578839e-03],\n",
       "       [ 6.66958762e-01, -4.82702763e-01, -1.30819379e-01],\n",
       "       [ 6.58961570e-01,  4.94893306e-01,  1.74868964e-01],\n",
       "       [ 8.53335653e-01, -3.77076159e-01, -9.31775506e-02],\n",
       "       [-1.08496872e+00, -6.91462364e-01, -4.57289483e-01],\n",
       "       [ 4.99298994e-01,  4.56533302e-01,  3.18636773e-01],\n",
       "       [-9.68261478e-01, -8.24346725e-01, -5.47655403e-01],\n",
       "       [-9.95696248e-01, -2.01900467e-01, -2.59197914e-01],\n",
       "       [-1.12967405e+00, -5.28358225e-01, -2.43450657e-01],\n",
       "       [ 1.15080196e+00, -5.21430098e-02,  1.94243537e-01],\n",
       "       [ 8.89303784e-01, -3.70140054e-01, -4.93216487e-02],\n",
       "       [-3.10955736e-01,  3.54412625e-01,  4.05536550e-02],\n",
       "       [ 1.07840518e+00,  9.22705117e-04,  1.06715054e-01],\n",
       "       [-9.59883386e-01, -6.49908833e-02, -1.47966737e-01],\n",
       "       [ 6.37654256e-01,  5.25741745e-01,  3.02812268e-01],\n",
       "       [ 7.48942448e-02,  3.96869463e-01,  7.19124652e-02],\n",
       "       [-1.10509902e+00, -7.56186325e-01, -4.42257576e-01],\n",
       "       [ 5.97516448e-03,  3.96090230e-01,  6.58083742e-02],\n",
       "       [ 9.54398819e-01, -2.57659480e-01,  2.14189027e-02],\n",
       "       [ 9.48507065e-01, -5.36761335e-02,  1.95319276e-01],\n",
       "       [-9.33100547e-02,  3.60966465e-01,  2.52596756e-01],\n",
       "       [-7.16575427e-03,  4.37240303e-01,  8.41641583e-02],\n",
       "       [-4.29512278e-01,  1.82940809e-01, -1.40837271e-01],\n",
       "       [ 6.17560823e-01,  4.75517142e-01,  5.96746673e-02],\n",
       "       [-6.64187997e-01,  2.06463839e-01,  2.01702638e-01],\n",
       "       [ 7.08572753e-01,  5.46722769e-01,  1.88237198e-01],\n",
       "       [-4.74064792e-01,  3.20203835e-01,  8.80953633e-02],\n",
       "       [-1.00867810e+00, -1.85883567e-01,  2.87456755e-02],\n",
       "       [ 1.09532478e+00,  3.69732245e-02,  4.62628912e-02],\n",
       "       [ 7.60343211e-01,  4.33797210e-01,  1.80366155e-01],\n",
       "       [ 1.42297531e-01,  5.10258424e-01,  1.02897833e-01],\n",
       "       [-6.97784920e-01,  1.43560151e-01, -1.42651977e-01],\n",
       "       [ 1.09022918e+00,  2.09499568e-01,  2.45498412e-01],\n",
       "       [-1.37883404e-01,  4.28064152e-01,  2.14850953e-01],\n",
       "       [-4.78784699e-01,  2.23366474e-01, -1.74592301e-01],\n",
       "       [-1.18197222e+00, -6.00535225e-01, -2.06536653e-01],\n",
       "       [ 8.10873592e-01,  4.54797366e-01,  1.87579928e-01],\n",
       "       [-4.93470426e-01,  1.87065416e-01,  1.87852845e-02],\n",
       "       [ 1.12439206e+00,  1.09421302e-01,  1.58702567e-01],\n",
       "       [ 2.16331762e-01,  3.89579266e-01,  1.50315900e-03],\n",
       "       [ 1.08160954e+00,  2.33561034e-03,  7.14246161e-02],\n",
       "       [-1.03558753e+00, -6.58809150e-01, -4.06642750e-01],\n",
       "       [ 5.01126668e-01,  4.37983062e-01,  3.66682813e-01],\n",
       "       [-1.11982458e+00, -3.78394231e-01, -1.32658423e-02],\n",
       "       [ 5.62856986e-01,  4.10942417e-01,  1.81621833e-01]])"
      ]
     },
     "execution_count": 18,
     "metadata": {},
     "output_type": "execute_result"
    }
   ],
   "source": [
    "## Building dataset\n",
    "np.random.seed(4)\n",
    "\n",
    "def generate_3d_data(m, w1=0.1, w2=0.3, noise=0.1):\n",
    "    angles = np.random.rand(m) * 3 * np.pi / 2 - 0.5\n",
    "    data = np.empty((m, 3))\n",
    "    data[:, 0] = np.cos(angles) + np.sin(angles)/2 + noise * np.random.randn(m) / 2\n",
    "    data[:, 1] = np.sin(angles) * 0.7 + noise * np.random.randn(m) / 2\n",
    "    data[:, 2] = data[:, 0] * w1 + data[:, 1] * w2 + noise * np.random.randn(m)\n",
    "    return data\n",
    "\n",
    "X_train= generate_3d_data(60)\n",
    "X_train= X_train - X_train.mean(axis=0, keepdims=0)"
   ]
  },
  {
   "cell_type": "code",
   "execution_count": 23,
   "id": "c37b7573",
   "metadata": {},
   "outputs": [],
   "source": [
    "np.random.seed(42)\n",
    "tf.random.set_seed(42)\n",
    "\n",
    "encoder = keras.models.Sequential([keras.layers.Dense(2, input_shape=[3])])\n",
    "decoder = keras.models.Sequential([keras.layers.Dense(3, input_shape=[2])])\n",
    "autoencoder = keras.models.Sequential([encoder, decoder])\n",
    "\n",
    "autoencoder.compile(loss=\"mse\", optimizer=keras.optimizers.SGD(learning_rate=1.5))"
   ]
  },
  {
   "cell_type": "code",
   "execution_count": 24,
   "id": "9d03cba1",
   "metadata": {
    "scrolled": true
   },
   "outputs": [
    {
     "name": "stdout",
     "output_type": "stream",
     "text": [
      "Epoch 1/20\n",
      "2/2 [==============================] - 0s 3ms/step - loss: 0.3636\n",
      "Epoch 2/20\n",
      "2/2 [==============================] - 0s 6ms/step - loss: 0.0963\n",
      "Epoch 3/20\n",
      "2/2 [==============================] - 0s 5ms/step - loss: 0.0411\n",
      "Epoch 4/20\n",
      "2/2 [==============================] - 0s 5ms/step - loss: 0.0321\n",
      "Epoch 5/20\n",
      "2/2 [==============================] - 0s 5ms/step - loss: 0.0435\n",
      "Epoch 6/20\n",
      "2/2 [==============================] - 0s 4ms/step - loss: 0.0572\n",
      "Epoch 7/20\n",
      "2/2 [==============================] - 0s 4ms/step - loss: 0.0354\n",
      "Epoch 8/20\n",
      "2/2 [==============================] - 0s 5ms/step - loss: 0.0200\n",
      "Epoch 9/20\n",
      "2/2 [==============================] - 0s 5ms/step - loss: 0.0126\n",
      "Epoch 10/20\n",
      "2/2 [==============================] - 0s 5ms/step - loss: 0.0075\n",
      "Epoch 11/20\n",
      "2/2 [==============================] - 0s 4ms/step - loss: 0.0056\n",
      "Epoch 12/20\n",
      "2/2 [==============================] - 0s 6ms/step - loss: 0.0045\n",
      "Epoch 13/20\n",
      "2/2 [==============================] - 0s 5ms/step - loss: 0.0039\n",
      "Epoch 14/20\n",
      "2/2 [==============================] - 0s 6ms/step - loss: 0.0038\n",
      "Epoch 15/20\n",
      "2/2 [==============================] - 0s 4ms/step - loss: 0.0040\n",
      "Epoch 16/20\n",
      "2/2 [==============================] - 0s 5ms/step - loss: 0.0037\n",
      "Epoch 17/20\n",
      "2/2 [==============================] - 0s 5ms/step - loss: 0.0037\n",
      "Epoch 18/20\n",
      "2/2 [==============================] - 0s 5ms/step - loss: 0.0036\n",
      "Epoch 19/20\n",
      "2/2 [==============================] - 0s 4ms/step - loss: 0.0036\n",
      "Epoch 20/20\n",
      "2/2 [==============================] - 0s 3ms/step - loss: 0.0036\n",
      "2/2 [==============================] - 0s 3ms/step\n"
     ]
    }
   ],
   "source": [
    "history = autoencoder.fit(X_train, X_train, epochs=20)\n",
    "codings = encoder.predict(X_train)"
   ]
  },
  {
   "cell_type": "code",
   "execution_count": 25,
   "id": "8386702f",
   "metadata": {},
   "outputs": [
    {
     "data": {
      "image/png": "[encoded data removed]",
      "text/plain": [
       "<Figure size 400x300 with 1 Axes>"
      ]
     },
     "metadata": {},
     "output_type": "display_data"
    }
   ],
   "source": [
    "fig = plt.figure(figsize=(4,3))\n",
    "plt.plot(codings[:,0], codings[:, 1], \"b.\")\n",
    "plt.xlabel(\"$z_1$\", fontsize=18)\n",
    "plt.ylabel(\"$z_2$\", fontsize=18, rotation=0)\n",
    "plt.grid(True)\n",
    "plt.title(\"linear_autoencoder_pca_plot\")\n",
    "plt.show()"
   ]
  }
 ],
 "metadata": {
  "kernelspec": {
   "display_name": ".stacked_ae",
   "language": "python",
   "name": ".stacked_ae"
  },
  "language_info": {
   "codemirror_mode": {
    "name": "ipython",
    "version": 3
   },
   "file_extension": ".py",
   "mimetype": "text/x-python",
   "name": "python",
   "nbconvert_exporter": "python",
   "pygments_lexer": "ipython3",
   "version": "3.9.12"
  }
 },
 "nbformat": 4,
 "nbformat_minor": 5
}
